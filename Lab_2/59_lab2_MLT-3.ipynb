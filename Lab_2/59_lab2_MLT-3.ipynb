{
 "cells": [
  {
   "cell_type": "markdown",
   "id": "2601630e",
   "metadata": {},
   "source": [
    "# Multi-Level Line, Encoding and Decoding Python Impelementation\n",
    "\n",
    "In this practical, at first we saw the graph of input set, then observe both encoded and decoded graph"
   ]
  },
  {
   "cell_type": "code",
   "execution_count": 1,
   "id": "595407bc",
   "metadata": {},
   "outputs": [],
   "source": [
    "import numpy as np\n",
    "import matplotlib.pyplot as plt"
   ]
  },
  {
   "cell_type": "code",
   "execution_count": 2,
   "id": "ca721f0c",
   "metadata": {},
   "outputs": [],
   "source": [
    "# !pip install numpy"
   ]
  },
  {
   "cell_type": "code",
   "execution_count": 3,
   "id": "cff397a6",
   "metadata": {},
   "outputs": [],
   "source": [
    "# !pip install matplotlib"
   ]
  },
  {
   "cell_type": "markdown",
   "id": "3c39ebdc",
   "metadata": {},
   "source": [
    "- numpy is useful for handling data structures and mathematical functions.\n",
    "\n",
    "- matplotlib.pyplot is used for creating visual plots and graphs to represent data.\n",
    "\n",
    "- for installing numpy and matplotlib, we can just run the commented 2 line code without commenting"
   ]
  },
  {
   "cell_type": "code",
   "execution_count": 4,
   "id": "4e92ba3d",
   "metadata": {},
   "outputs": [],
   "source": [
    "input_binary_string = '10110010'\n",
    "#  input_binary_string = input(\"Enter a binary string (e.g., 10110010): \")"
   ]
  },
  {
   "cell_type": "markdown",
   "id": "1552b714",
   "metadata": {},
   "source": [
    "Here I just took the input."
   ]
  },
  {
   "cell_type": "code",
   "execution_count": 5,
   "id": "fabc7c5e",
   "metadata": {},
   "outputs": [
    {
     "name": "stdout",
     "output_type": "stream",
     "text": [
      "[1, 0, 1, 1, 0, 0, 1, 0]\n"
     ]
    }
   ],
   "source": [
    "input_binary_array_list = [int(char) for char in input_binary_string]\n",
    "print(input_binary_array_list)"
   ]
  },
  {
   "cell_type": "markdown",
   "id": "48c2bd5d",
   "metadata": {},
   "source": [
    "At first, I compress the string to a list of integers and then normally print the output list."
   ]
  },
  {
   "cell_type": "code",
   "execution_count": 6,
   "id": "73a0879e",
   "metadata": {},
   "outputs": [],
   "source": [
    "def graph_design(signal):\n",
    "    time=range(len(signal)+1)\n",
    "    signal=signal+[signal[-1]]\n",
    "    plt.figure(figsize=(8,4))\n",
    "    plt.step(time, signal,where='post',color='red')\n",
    "    plt.xlabel('Time')\n",
    "    plt.ylabel('Voltage Level')\n",
    "    plt.title('Input GRAPH')\n",
    "    # plt.yticks([0, 1])\n",
    "    plt.grid(True)\n",
    "    plt.show()"
   ]
  },
  {
   "cell_type": "markdown",
   "id": "f1f1d1b5",
   "metadata": {},
   "source": [
    "This code mainly generate the graph, now I will just call the function referencing the input signal."
   ]
  },
  {
   "cell_type": "code",
   "execution_count": 7,
   "id": "ff7b3aa4",
   "metadata": {},
   "outputs": [
    {
     "data": {
      "image/png": "[encoded data removed]",
      "text/plain": [
       "<Figure size 800x400 with 1 Axes>"
      ]
     },
     "metadata": {},
     "output_type": "display_data"
    }
   ],
   "source": [
    "graph_design(input_binary_array_list)"
   ]
  },
  {
   "cell_type": "markdown",
   "id": "8ca192f3",
   "metadata": {},
   "source": [
    "And this complete the graph of input set."
   ]
  },
  {
   "cell_type": "markdown",
   "id": "b0ba200f",
   "metadata": {},
   "source": [
    "# Introduction to Multi-Level Line Encoding and Decoding Scheme\n",
    "\n",
    "• Multi-level encoding uses more than two voltage levels to encode binary data.\n",
    "• This helps reduce the frequency spectrum and makes signals more bandwidth-efficient.\n",
    "• Common examples: MLT-3, 2B1Q, 4B3T, etc.\n",
    "\n",
    "\n",
    "### MLT-3 Encoding (Multi-Level Transmit - 3 levels)\n",
    "\n",
    "• Voltage levels: +1, 0, -1\n",
    "• Rules:\n",
    "o If the input bit is 0: no change in signal level.\n",
    "o If the input bit is 1: transition to the next level in the sequence:\n",
    "→ 0 → +1 → 0 → -1 → 0 → +1 and so on.\n",
    "\n",
    "This pattern repeats cyclically:\n",
    "... → 0 → +1 → 0 → -1 → 0 → +1 → ..."
   ]
  },
  {
   "cell_type": "markdown",
   "id": "9df3134c",
   "metadata": {},
   "source": [
    "### MLT-3 Encoding Algorithm\n",
    "\n",
    "Input: Binary string (e.g., \"1100101\")\n",
    "Output: Voltage level sequence\n",
    "1. Set initial level to 0.\n",
    "2. Define the transition sequence: [0, +1, 0, -1].\n",
    "3. Initialize an index to track the current position in the transition cycle.\n",
    "4. For each bit:\n",
    "o If bit is '0': repeat last level.\n",
    "o If bit is '1': move to the next level in the transition sequence."
   ]
  },
  {
   "cell_type": "code",
   "execution_count": 8,
   "id": "41319e19",
   "metadata": {},
   "outputs": [],
   "source": [
    "def mlt_encode(bits):\n",
    "    pattern = [0,1,0,-1]\n",
    "    prev = 0\n",
    "    curr = 0\n",
    "    signal = []\n",
    "    for i in bits:\n",
    "        if i == '1':\n",
    "            prev = (prev + 1) % 4\n",
    "            curr = pattern[prev]\n",
    "        signal.append(curr)\n",
    "    return signal"
   ]
  },
  {
   "cell_type": "code",
   "execution_count": 9,
   "id": "9a43f1d5",
   "metadata": {},
   "outputs": [],
   "source": [
    "mlt_encoded_signal = mlt_encode(input_binary_string)"
   ]
  },
  {
   "cell_type": "code",
   "execution_count": 10,
   "id": "81073589",
   "metadata": {},
   "outputs": [
    {
     "name": "stdout",
     "output_type": "stream",
     "text": [
      "Multi Level Line Encoded Signal : [1, 1, 0, -1, -1, -1, 0, 0]\n"
     ]
    }
   ],
   "source": [
    "print(f\"Multi Level Line Encoded Signal : {mlt_encoded_signal}\")"
   ]
  },
  {
   "cell_type": "code",
   "execution_count": 11,
   "id": "d1a78776",
   "metadata": {},
   "outputs": [],
   "source": [
    "def ML3_encoded_graph_design(signal):\n",
    "    time=range(len(signal)+1)\n",
    "    signal=signal+[signal[-1]]\n",
    "    plt.figure(figsize=(8,4))\n",
    "    plt.step(time, signal,where='post',color='purple')\n",
    "    plt.xlabel('Time')\n",
    "    plt.ylabel('Voltage Level')\n",
    "    plt.title(f\"Multi Level Encoding for: {input_binary_string}\")\n",
    "    plt.yticks([-1, 0, 1])\n",
    "    plt.grid(True)\n",
    "    plt.show()   "
   ]
  },
  {
   "cell_type": "code",
   "execution_count": 12,
   "id": "0e960e3e",
   "metadata": {},
   "outputs": [
    {
     "data": {
      "image/png": "[encoded data removed]",
      "text/plain": [
       "<Figure size 800x400 with 1 Axes>"
      ]
     },
     "metadata": {},
     "output_type": "display_data"
    }
   ],
   "source": [
    "ML3_encoded_graph_design(mlt_encoded_signal)"
   ]
  },
  {
   "cell_type": "markdown",
   "id": "36413238",
   "metadata": {},
   "source": [
    "### Decoding\n",
    "Input: Encoded signal (list of voltage levels)\n",
    "Output: Binary string\n",
    "1. Compare each signal level with the previous one.\n",
    "- If it changes: append '1'\n",
    "- If it remains the same: append '0'"
   ]
  },
  {
   "cell_type": "code",
   "execution_count": 13,
   "id": "10fcd6c7",
   "metadata": {},
   "outputs": [],
   "source": [
    "def mlt_decode(mlt_encoded_signal):\n",
    "    decoded_signal = ''\n",
    "    for i in range(len(mlt_encoded_signal)):\n",
    "        if i == 0:\n",
    "            if mlt_encoded_signal != 0:\n",
    "                decoded_signal+='1'\n",
    "            else:\n",
    "                decoded_signal+='0'\n",
    "        elif mlt_encoded_signal[i] != mlt_encoded_signal[i-1]:\n",
    "            decoded_signal +='1'\n",
    "        else:\n",
    "            decoded_signal+='0'\n",
    "    return decoded_signal"
   ]
  },
  {
   "cell_type": "code",
   "execution_count": 14,
   "id": "a5ff4828",
   "metadata": {},
   "outputs": [],
   "source": [
    "mlt_decoded_signal = mlt_decode(mlt_encoded_signal)"
   ]
  },
  {
   "cell_type": "code",
   "execution_count": 15,
   "id": "a04e51c6",
   "metadata": {},
   "outputs": [
    {
     "name": "stdout",
     "output_type": "stream",
     "text": [
      "Multi Decoded Signal : 10110010\n"
     ]
    }
   ],
   "source": [
    "print(f\"Multi Decoded Signal : {mlt_decoded_signal}\")"
   ]
  },
  {
   "cell_type": "code",
   "execution_count": 16,
   "id": "a6580067",
   "metadata": {},
   "outputs": [
    {
     "name": "stdout",
     "output_type": "stream",
     "text": [
      "[1, 0, 1, 1, 0, 0, 1, 0]\n"
     ]
    }
   ],
   "source": [
    "decode_list = [int(char) for char in mlt_decoded_signal]\n",
    "print(decode_list)"
   ]
  },
  {
   "cell_type": "code",
   "execution_count": 17,
   "id": "1a592fba",
   "metadata": {},
   "outputs": [],
   "source": [
    "def ML3_decoded_graph_design(signal):\n",
    "    time=range(len(signal)+1)\n",
    "    signal=signal+[signal[-1]]\n",
    "    plt.figure(figsize=(8,4))\n",
    "    plt.step(time, signal,where='post',color='purple')\n",
    "    plt.xlabel('Time')\n",
    "    plt.ylabel('Voltage Level')\n",
    "    plt.title(f\"Multi Level Decoding for: {mlt_decoded_signal}\")\n",
    "    plt.yticks([-1, 0, 1])\n",
    "    plt.grid(True)\n",
    "    plt.show()   "
   ]
  },
  {
   "cell_type": "code",
   "execution_count": 18,
   "id": "21cd615e",
   "metadata": {},
   "outputs": [
    {
     "ename": "NameError",
     "evalue": "name 'decode_list_negative' is not defined",
     "output_type": "error",
     "traceback": [
      "\u001b[31m---------------------------------------------------------------------------\u001b[39m",
      "\u001b[31mNameError\u001b[39m                                 Traceback (most recent call last)",
      "\u001b[36mCell\u001b[39m\u001b[36m \u001b[39m\u001b[32mIn[18]\u001b[39m\u001b[32m, line 1\u001b[39m\n\u001b[32m----> \u001b[39m\u001b[32m1\u001b[39m ML3_decoded_graph_design(\u001b[43mdecode_list_negative\u001b[49m)\n",
      "\u001b[31mNameError\u001b[39m: name 'decode_list_negative' is not defined"
     ]
    }
   ],
   "source": [
    "ML3_decoded_graph_design(decode_list_negative)"
   ]
  }
 ],
 "metadata": {
  "kernelspec": {
   "display_name": "Python 3",
   "language": "python",
   "name": "python3"
  },
  "language_info": {
   "codemirror_mode": {
    "name": "ipython",
    "version": 3
   },
   "file_extension": ".py",
   "mimetype": "text/x-python",
   "name": "python",
   "nbconvert_exporter": "python",
   "pygments_lexer": "ipython3",
   "version": "3.11.9"
  }
 },
 "nbformat": 4,
 "nbformat_minor": 5
}
