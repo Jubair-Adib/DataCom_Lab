{
 "cells": [
  {
   "cell_type": "markdown",
   "id": "2601630e",
   "metadata": {},
   "source": [
    "# Pseudoternary Encoding and Decoding Python Impelementation\n",
    "\n",
    "In this practical, at first we saw the graph of input set, then observe both encoded and decoded graph"
   ]
  },
  {
   "cell_type": "code",
   "execution_count": 1,
   "id": "595407bc",
   "metadata": {},
   "outputs": [],
   "source": [
    "import numpy as np\n",
    "import matplotlib.pyplot as plt"
   ]
  },
  {
   "cell_type": "code",
   "execution_count": 2,
   "id": "ca721f0c",
   "metadata": {},
   "outputs": [],
   "source": [
    "# !pip install numpy"
   ]
  },
  {
   "cell_type": "code",
   "execution_count": 3,
   "id": "cff397a6",
   "metadata": {},
   "outputs": [],
   "source": [
    "# !pip install matplotlib"
   ]
  },
  {
   "cell_type": "markdown",
   "id": "3c39ebdc",
   "metadata": {},
   "source": [
    "- numpy is useful for handling data structures and mathematical functions.\n",
    "\n",
    "- matplotlib.pyplot is used for creating visual plots and graphs to represent data.\n",
    "\n",
    "- for installing numpy and matplotlib, we can just run the commented 2 line code without commenting"
   ]
  },
  {
   "cell_type": "code",
   "execution_count": 4,
   "id": "4e92ba3d",
   "metadata": {},
   "outputs": [],
   "source": [
    "input_binary_string = '10110010'\n",
    "#  input_binary_string = input(\"Enter a binary string (e.g., 10110010): \")"
   ]
  },
  {
   "cell_type": "markdown",
   "id": "1552b714",
   "metadata": {},
   "source": [
    "Here I just took the input."
   ]
  },
  {
   "cell_type": "code",
   "execution_count": 5,
   "id": "fabc7c5e",
   "metadata": {},
   "outputs": [
    {
     "name": "stdout",
     "output_type": "stream",
     "text": [
      "[1, 0, 1, 1, 0, 0, 1, 0]\n"
     ]
    }
   ],
   "source": [
    "input_binary_array_list = [int(char) for char in input_binary_string]\n",
    "print(input_binary_array_list)"
   ]
  },
  {
   "cell_type": "markdown",
   "id": "48c2bd5d",
   "metadata": {},
   "source": [
    "At first, I compress the string to a list of integers and then normally print the output list."
   ]
  },
  {
   "cell_type": "code",
   "execution_count": 6,
   "id": "73a0879e",
   "metadata": {},
   "outputs": [],
   "source": [
    "def graph_design(signal):\n",
    "    time=range(len(signal)+1)\n",
    "    signal=signal+[signal[-1]]\n",
    "    plt.figure(figsize=(8,4))\n",
    "    plt.step(time, signal,where='post',color='red')\n",
    "    plt.xlabel('Time')\n",
    "    plt.ylabel('Voltage Level')\n",
    "    plt.title('Input GRAPH')\n",
    "    # plt.yticks([0, 1])\n",
    "    plt.grid(True)\n",
    "    plt.show()"
   ]
  },
  {
   "cell_type": "markdown",
   "id": "f1f1d1b5",
   "metadata": {},
   "source": [
    "This code mainly generate the graph, now I will just call the function referencing the input signal."
   ]
  },
  {
   "cell_type": "code",
   "execution_count": 7,
   "id": "ff7b3aa4",
   "metadata": {},
   "outputs": [
    {
     "data": {
      "image/png": "[encoded data removed]",
      "text/plain": [
       "<Figure size 800x400 with 1 Axes>"
      ]
     },
     "metadata": {},
     "output_type": "display_data"
    }
   ],
   "source": [
    "graph_design(input_binary_array_list)"
   ]
  },
  {
   "cell_type": "markdown",
   "id": "8ca192f3",
   "metadata": {},
   "source": [
    "And this complete the graph of input set."
   ]
  },
  {
   "cell_type": "markdown",
   "id": "b0ba200f",
   "metadata": {},
   "source": [
    "# Introduction to Pseudoternary Encoding and Decoding Scheme\n",
    "\n",
    "Pseudoternary line coding is a line coding technique that uses three voltage levels (+V, 0, -V) to represent binary\n",
    "data, where logic 0 is represented by alternating positive and negative voltages, and logic 1 is represented by zero\n",
    "volts. That means----\n",
    "• Binary 1 → 0V\n",
    "• Binary 0 → Alternates between +V and -V\n",
    "• Opposite of AMI. Same benefits: no DC component and help synchronization."
   ]
  },
  {
   "cell_type": "markdown",
   "id": "9df3134c",
   "metadata": {},
   "source": [
    "### Pseudoternary Encoding Algorithm\n",
    "Input: Binary string\n",
    "\n",
    "Output: Encoded voltage list\n",
    "\n",
    "1. Initialize last = -1 (polarity tracker)\n",
    "2. For each bit:\n",
    "\n",
    "    - If bit is '1', append 0\n",
    "\n",
    "    - If bit is '0':\n",
    "\n",
    "\n",
    "        - Flip polarity (last *= -1)\n",
    "\n",
    "        - Append last"
   ]
  },
  {
   "cell_type": "code",
   "execution_count": 8,
   "id": "41319e19",
   "metadata": {},
   "outputs": [],
   "source": [
    "def pseudo_encoder(bits,initial_state):\n",
    "    pseudo_signal = []\n",
    "    \n",
    "    for bit in bits:\n",
    "        if bit == '0':\n",
    "            initial_state*= -1\n",
    "            pseudo_signal.append(initial_state)\n",
    "        else:\n",
    "            pseudo_signal.append(0)\n",
    "    return pseudo_signal"
   ]
  },
  {
   "cell_type": "code",
   "execution_count": 9,
   "id": "9a43f1d5",
   "metadata": {},
   "outputs": [],
   "source": [
    "pseudo_encoded_signal_positive = pseudo_encoder(input_binary_string,1)"
   ]
  },
  {
   "cell_type": "code",
   "execution_count": 10,
   "id": "81073589",
   "metadata": {},
   "outputs": [
    {
     "name": "stdout",
     "output_type": "stream",
     "text": [
      "Pseudoternary Encoded Signal Initial Positive : [0, -1, 0, 0, 1, -1, 0, 1]\n"
     ]
    }
   ],
   "source": [
    "print(f\"Pseudoternary Encoded Signal Initial Positive : {pseudo_encoded_signal_positive}\")"
   ]
  },
  {
   "cell_type": "code",
   "execution_count": 11,
   "id": "d1a78776",
   "metadata": {},
   "outputs": [],
   "source": [
    "def Pseudoternary_encoded_graph_design(signal):\n",
    "    time=range(len(signal)+1)\n",
    "    signal=signal+[signal[-1]]\n",
    "    plt.figure(figsize=(8,4))\n",
    "    plt.step(time, signal,where='post',color='purple')\n",
    "    plt.xlabel('Time')\n",
    "    plt.ylabel('Voltage Level')\n",
    "    plt.title(f\"Pseudoternary  Encoding for intial negative: {input_binary_string}\")\n",
    "    plt.yticks([-1, 0, 1])\n",
    "    plt.grid(True)\n",
    "    plt.show()   "
   ]
  },
  {
   "cell_type": "code",
   "execution_count": 12,
   "id": "0e960e3e",
   "metadata": {},
   "outputs": [
    {
     "data": {
      "image/png": "[encoded data removed]",
      "text/plain": [
       "<Figure size 800x400 with 1 Axes>"
      ]
     },
     "metadata": {},
     "output_type": "display_data"
    }
   ],
   "source": [
    "Pseudoternary_encoded_graph_design(pseudo_encoded_signal_positive)"
   ]
  },
  {
   "cell_type": "markdown",
   "id": "36413238",
   "metadata": {},
   "source": [
    "### Pseudoternary Decoding Algorithm\n",
    "Input: Encoded voltage list\n",
    "Output: Binary string\n",
    "1. For each voltage in the list:\n",
    "- If value is 0, append '1'\n",
    "- If value is +V or -V, append '0'"
   ]
  },
  {
   "cell_type": "code",
   "execution_count": 13,
   "id": "10fcd6c7",
   "metadata": {},
   "outputs": [],
   "source": [
    "def pseudo_decode(pseudo_encoded_signal):\n",
    "    decoded_signal =''\n",
    "    for i in range(0,len(pseudo_encoded_signal)):\n",
    "        if pseudo_encoded_signal[i] == 0:\n",
    "            decoded_signal +='1'\n",
    "        else:\n",
    "            decoded_signal +='0'\n",
    "        \n",
    "\n",
    "    return decoded_signal"
   ]
  },
  {
   "cell_type": "code",
   "execution_count": 14,
   "id": "a5ff4828",
   "metadata": {},
   "outputs": [],
   "source": [
    "pseudo_decoded_signal_positive = pseudo_decode(pseudo_encoded_signal_positive)"
   ]
  },
  {
   "cell_type": "code",
   "execution_count": 15,
   "id": "a04e51c6",
   "metadata": {},
   "outputs": [
    {
     "name": "stdout",
     "output_type": "stream",
     "text": [
      "Pseudo Decoded Signal Initial Positive : 10110010\n"
     ]
    }
   ],
   "source": [
    "print(f\"Pseudo Decoded Signal Initial Positive : {pseudo_decoded_signal_positive}\")"
   ]
  },
  {
   "cell_type": "code",
   "execution_count": 16,
   "id": "a6580067",
   "metadata": {},
   "outputs": [
    {
     "name": "stdout",
     "output_type": "stream",
     "text": [
      "[1, 0, 1, 1, 0, 0, 1, 0]\n"
     ]
    }
   ],
   "source": [
    "pseudo_decode_list_positive = [int(char) for char in pseudo_decoded_signal_positive]\n",
    "print(pseudo_decode_list_positive)"
   ]
  },
  {
   "cell_type": "code",
   "execution_count": 17,
   "id": "1a592fba",
   "metadata": {},
   "outputs": [],
   "source": [
    "def Pseudoternary_encoded_graph_design(signal):\n",
    "    time=range(len(signal)+1)\n",
    "    signal=signal+[signal[-1]]\n",
    "    plt.figure(figsize=(8,4))\n",
    "    plt.step(time, signal,where='post',color='purple')\n",
    "    plt.xlabel('Time')\n",
    "    plt.ylabel('Voltage Level')\n",
    "    plt.title(f\"AMI Decoding for intial negative: {input_binary_string}\")\n",
    "    plt.yticks([0, 1])\n",
    "    plt.grid(True)\n",
    "    plt.show()     "
   ]
  },
  {
   "cell_type": "code",
   "execution_count": 18,
   "id": "21cd615e",
   "metadata": {},
   "outputs": [
    {
     "data": {
      "image/png": "[encoded data removed]",
      "text/plain": [
       "<Figure size 800x400 with 1 Axes>"
      ]
     },
     "metadata": {},
     "output_type": "display_data"
    }
   ],
   "source": [
    "Pseudoternary_encoded_graph_design(pseudo_decode_list_positive)"
   ]
  }
 ],
 "metadata": {
  "kernelspec": {
   "display_name": "Python 3",
   "language": "python",
   "name": "python3"
  },
  "language_info": {
   "codemirror_mode": {
    "name": "ipython",
    "version": 3
   },
   "file_extension": ".py",
   "mimetype": "text/x-python",
   "name": "python",
   "nbconvert_exporter": "python",
   "pygments_lexer": "ipython3",
   "version": "3.11.9"
  }
 },
 "nbformat": 4,
 "nbformat_minor": 5
}
