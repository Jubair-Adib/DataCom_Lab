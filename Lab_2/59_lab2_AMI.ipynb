{
 "cells": [
  {
   "cell_type": "markdown",
   "id": "2601630e",
   "metadata": {},
   "source": [
    "# Alternate Mark Inversion (AMI) Encoding and Decoding Python Impelementation\n",
    "\n",
    "In this practical, at first we saw the graph of input set, then observe both encoded and decoded graph"
   ]
  },
  {
   "cell_type": "code",
   "execution_count": 1,
   "id": "595407bc",
   "metadata": {},
   "outputs": [],
   "source": [
    "import numpy as np\n",
    "import matplotlib.pyplot as plt"
   ]
  },
  {
   "cell_type": "code",
   "execution_count": 2,
   "id": "ca721f0c",
   "metadata": {},
   "outputs": [],
   "source": [
    "# !pip install numpy"
   ]
  },
  {
   "cell_type": "code",
   "execution_count": 3,
   "id": "cff397a6",
   "metadata": {},
   "outputs": [],
   "source": [
    "# !pip install matplotlib"
   ]
  },
  {
   "cell_type": "markdown",
   "id": "3c39ebdc",
   "metadata": {},
   "source": [
    "- numpy is useful for handling data structures and mathematical functions.\n",
    "\n",
    "- matplotlib.pyplot is used for creating visual plots and graphs to represent data.\n",
    "\n",
    "- for installing numpy and matplotlib, we can just run the commented 2 line code without commenting"
   ]
  },
  {
   "cell_type": "code",
   "execution_count": 4,
   "id": "4e92ba3d",
   "metadata": {},
   "outputs": [],
   "source": [
    "input_binary_string = '10110010'\n",
    "#  input_binary_string = input(\"Enter a binary string (e.g., 10110010): \")"
   ]
  },
  {
   "cell_type": "markdown",
   "id": "1552b714",
   "metadata": {},
   "source": [
    "Here I just took the input."
   ]
  },
  {
   "cell_type": "code",
   "execution_count": 5,
   "id": "fabc7c5e",
   "metadata": {},
   "outputs": [
    {
     "name": "stdout",
     "output_type": "stream",
     "text": [
      "[1, 0, 1, 1, 0, 0, 1, 0]\n"
     ]
    }
   ],
   "source": [
    "input_binary_array_list = [int(char) for char in input_binary_string]\n",
    "print(input_binary_array_list)"
   ]
  },
  {
   "cell_type": "markdown",
   "id": "48c2bd5d",
   "metadata": {},
   "source": [
    "At first, I compress the string to a list of integers and then normally print the output list."
   ]
  },
  {
   "cell_type": "code",
   "execution_count": 6,
   "id": "73a0879e",
   "metadata": {},
   "outputs": [],
   "source": [
    "def graph_design(signal):\n",
    "    time=range(len(signal)+1)\n",
    "    signal=signal+[signal[-1]]\n",
    "    plt.figure(figsize=(8,4))\n",
    "    plt.step(time, signal,where='post',color='red')\n",
    "    plt.xlabel('Time')\n",
    "    plt.ylabel('Voltage Level')\n",
    "    plt.title('Input GRAPH')\n",
    "    # plt.yticks([0, 1])\n",
    "    plt.grid(True)\n",
    "    plt.show()"
   ]
  },
  {
   "cell_type": "markdown",
   "id": "f1f1d1b5",
   "metadata": {},
   "source": [
    "This code mainly generate the graph, now I will just call the function referencing the input signal."
   ]
  },
  {
   "cell_type": "code",
   "execution_count": 7,
   "id": "ff7b3aa4",
   "metadata": {},
   "outputs": [
    {
     "data": {
      "image/png": "[encoded data removed]",
      "text/plain": [
       "<Figure size 800x400 with 1 Axes>"
      ]
     },
     "metadata": {},
     "output_type": "display_data"
    }
   ],
   "source": [
    "graph_design(input_binary_array_list)"
   ]
  },
  {
   "cell_type": "markdown",
   "id": "8ca192f3",
   "metadata": {},
   "source": [
    "And this complete the graph of input set."
   ]
  },
  {
   "cell_type": "markdown",
   "id": "b0ba200f",
   "metadata": {},
   "source": [
    "# Introduction to AMI Encoding and Decoding Scheme\n",
    "\n",
    "AMI (Alternate Mark Inversion) is a synchronous clock encoding technique that uses bipolar pulses to represent a\n",
    "logical 1. The next logic 1 is represented by a pulse of the opposite polarity. Hence, a sequence of logical 1s is\n",
    "represented by a sequence of pulses of alternating polarity. That means----\n",
    "• Binary 0 → 0V\n",
    "• Binary 1 → Alternates between +V and -V\n",
    "• Used to maintain synchronization and eliminate DC bias."
   ]
  },
  {
   "cell_type": "markdown",
   "id": "9df3134c",
   "metadata": {},
   "source": [
    "### Algorithm for AMI Encoding:\n",
    "1. Initialize last = -1 (this tracks polarity of last '1')\n",
    "2. For each bit in the binary string:\n",
    "\n",
    "    - If bit is '0', append 0 (neutral)\n",
    "\n",
    "    - If bit is '1':\n",
    "\n",
    "        - Flip last to its opposite sign\n",
    "        \n",
    "        - Append last"
   ]
  },
  {
   "cell_type": "code",
   "execution_count": 8,
   "id": "41319e19",
   "metadata": {},
   "outputs": [],
   "source": [
    "def AMI_encoder(bits,intial_state):\n",
    "    ami_signal = []\n",
    "    for bit in bits:\n",
    "        if bit == '1':\n",
    "            intial_state*= -1\n",
    "            ami_signal.append(intial_state)\n",
    "        else:\n",
    "            ami_signal.append(0)\n",
    "    return ami_signal\n"
   ]
  },
  {
   "cell_type": "code",
   "execution_count": 9,
   "id": "9a43f1d5",
   "metadata": {},
   "outputs": [],
   "source": [
    "ami_encoded_signal_negative = AMI_encoder(input_binary_string,-1)"
   ]
  },
  {
   "cell_type": "code",
   "execution_count": 10,
   "id": "81073589",
   "metadata": {},
   "outputs": [
    {
     "name": "stdout",
     "output_type": "stream",
     "text": [
      "AMI Encoded Signal Initial Negative : [1, 0, -1, 1, 0, 0, -1, 0]\n"
     ]
    }
   ],
   "source": [
    "print(f\"AMI Encoded Signal Initial Negative : {ami_encoded_signal_negative}\")"
   ]
  },
  {
   "cell_type": "code",
   "execution_count": 11,
   "id": "d1a78776",
   "metadata": {},
   "outputs": [],
   "source": [
    "def AMI_encoded_graph_design(signal):\n",
    "    time=range(len(signal)+1)\n",
    "    signal=signal+[signal[-1]]\n",
    "    plt.figure(figsize=(8,4))\n",
    "    plt.step(time, signal,where='post',color='purple')\n",
    "    plt.xlabel('Time')\n",
    "    plt.ylabel('Voltage Level')\n",
    "    plt.title(f\"AMI Encoding for intial negative: {input_binary_string}\")\n",
    "    plt.yticks([-1, 0, 1])\n",
    "    plt.grid(True)\n",
    "    plt.show()   "
   ]
  },
  {
   "cell_type": "code",
   "execution_count": 12,
   "id": "0e960e3e",
   "metadata": {},
   "outputs": [
    {
     "data": {
      "image/png": "[encoded data removed]",
      "text/plain": [
       "<Figure size 800x400 with 1 Axes>"
      ]
     },
     "metadata": {},
     "output_type": "display_data"
    }
   ],
   "source": [
    "AMI_encoded_graph_design(ami_encoded_signal_negative)"
   ]
  },
  {
   "cell_type": "markdown",
   "id": "36413238",
   "metadata": {},
   "source": [
    "### Algorithm for AMI Decoding:\n",
    "1. For each voltage in the list:\n",
    "\n",
    "- If value is 0, append '0'\n",
    "- If value is +V or -V, append '1'"
   ]
  },
  {
   "cell_type": "code",
   "execution_count": 13,
   "id": "10fcd6c7",
   "metadata": {},
   "outputs": [],
   "source": [
    "def AMI_decode(ami_encoded_signal):\n",
    "    decoded_signal =''\n",
    "    for i in range(0,len(ami_encoded_signal)):\n",
    "        if ami_encoded_signal[i] == 0:\n",
    "            decoded_signal +='0'\n",
    "        else:\n",
    "            decoded_signal +='1'\n",
    "        \n",
    "\n",
    "    return decoded_signal"
   ]
  },
  {
   "cell_type": "code",
   "execution_count": 14,
   "id": "a5ff4828",
   "metadata": {},
   "outputs": [],
   "source": [
    "ami_decoded_signal_negative = AMI_decode(ami_encoded_signal_negative)"
   ]
  },
  {
   "cell_type": "code",
   "execution_count": 15,
   "id": "a04e51c6",
   "metadata": {},
   "outputs": [
    {
     "name": "stdout",
     "output_type": "stream",
     "text": [
      "Ami Decoded Signal Negative : 10110010\n"
     ]
    }
   ],
   "source": [
    "print(f\"Ami Decoded Signal Negative : {ami_decoded_signal_negative}\")"
   ]
  },
  {
   "cell_type": "code",
   "execution_count": 16,
   "id": "a6580067",
   "metadata": {},
   "outputs": [
    {
     "name": "stdout",
     "output_type": "stream",
     "text": [
      "[1, 0, 1, 1, 0, 0, 1, 0]\n"
     ]
    }
   ],
   "source": [
    "decode_list_negative = [int(char) for char in ami_decoded_signal_negative]\n",
    "print(decode_list_negative)"
   ]
  },
  {
   "cell_type": "code",
   "execution_count": 17,
   "id": "1a592fba",
   "metadata": {},
   "outputs": [],
   "source": [
    "def AMI_encoded_graph_design(signal):\n",
    "    time=range(len(signal)+1)\n",
    "    signal=signal+[signal[-1]]\n",
    "    plt.figure(figsize=(8,4))\n",
    "    plt.step(time, signal,where='post',color='purple')\n",
    "    plt.xlabel('Time')\n",
    "    plt.ylabel('Voltage Level')\n",
    "    plt.title(f\"AMI Decoding for intial negative: {input_binary_string}\")\n",
    "    plt.yticks([0, 1])\n",
    "    plt.grid(True)\n",
    "    plt.show()     "
   ]
  },
  {
   "cell_type": "code",
   "execution_count": 18,
   "id": "21cd615e",
   "metadata": {},
   "outputs": [
    {
     "data": {
      "image/png": "[encoded data removed]",
      "text/plain": [
       "<Figure size 800x400 with 1 Axes>"
      ]
     },
     "metadata": {},
     "output_type": "display_data"
    }
   ],
   "source": [
    "AMI_encoded_graph_design(decode_list_negative)"
   ]
  }
 ],
 "metadata": {
  "kernelspec": {
   "display_name": "Python 3",
   "language": "python",
   "name": "python3"
  },
  "language_info": {
   "codemirror_mode": {
    "name": "ipython",
    "version": 3
   },
   "file_extension": ".py",
   "mimetype": "text/x-python",
   "name": "python",
   "nbconvert_exporter": "python",
   "pygments_lexer": "ipython3",
   "version": "3.11.9"
  }
 },
 "nbformat": 4,
 "nbformat_minor": 5
}
