{
 "cells": [
  {
   "cell_type": "markdown",
   "id": "2601630e",
   "metadata": {},
   "source": [
    "\n",
    "# NRZ-I Encoding and Decoding Python Impelementation\n",
    "\n",
    "In this practical, at first we saw the graph of input set, then observe both encoded and decoded graph"
   ]
  },
  {
   "cell_type": "code",
   "execution_count": 35,
   "id": "595407bc",
   "metadata": {},
   "outputs": [],
   "source": [
    "import numpy as np\n",
    "import matplotlib.pyplot as plt"
   ]
  },
  {
   "cell_type": "code",
   "execution_count": 36,
   "id": "2861d751",
   "metadata": {},
   "outputs": [],
   "source": [
    "# !pip install numpy"
   ]
  },
  {
   "cell_type": "code",
   "execution_count": 37,
   "id": "1998798c",
   "metadata": {},
   "outputs": [],
   "source": [
    "# !pip install matplotlib"
   ]
  },
  {
   "cell_type": "markdown",
   "id": "3c39ebdc",
   "metadata": {},
   "source": [
    "- numpy is useful for handling data structures and mathematical functions.\n",
    "\n",
    "- matplotlib.pyplot is used for creating visual plots and graphs to represent data.\n",
    "\n",
    "- for installing numpy and matplotlib, we can just run the commented 2 line code without commenting"
   ]
  },
  {
   "cell_type": "code",
   "execution_count": 38,
   "id": "4e92ba3d",
   "metadata": {},
   "outputs": [],
   "source": [
    "input_binary_string = '10111001'\n",
    "#  input_binary_string = input(\"Enter a binary string (e.g., 10111001): \")"
   ]
  },
  {
   "cell_type": "markdown",
   "id": "1552b714",
   "metadata": {},
   "source": [
    "Here I just took the input."
   ]
  },
  {
   "cell_type": "code",
   "execution_count": 39,
   "id": "fabc7c5e",
   "metadata": {},
   "outputs": [
    {
     "name": "stdout",
     "output_type": "stream",
     "text": [
      "[1, 0, 1, 1, 1, 0, 0, 1]\n"
     ]
    }
   ],
   "source": [
    "input_binary_array_list = [int(char) for char in input_binary_string]\n",
    "print(input_binary_array_list)"
   ]
  },
  {
   "cell_type": "markdown",
   "id": "48c2bd5d",
   "metadata": {},
   "source": [
    "At first, I compress the string to a list of integers and then normally print the output list."
   ]
  },
  {
   "cell_type": "code",
   "execution_count": 40,
   "id": "73a0879e",
   "metadata": {},
   "outputs": [],
   "source": [
    "def graph_design(signal):\n",
    "    time=range(len(signal)+1)\n",
    "    signal=signal+[signal[-1]]\n",
    "    plt.figure(figsize=(8,4))\n",
    "    plt.step(time, signal,where='post',label=\"NRZ-I Signal\",color='red')\n",
    "    plt.xlabel('Time')\n",
    "    plt.ylabel('Voltage Level')\n",
    "    plt.title('Input GRAPH')\n",
    "    # plt.yticks([0, 1])\n",
    "    plt.grid(True)\n",
    "    plt.show()"
   ]
  },
  {
   "cell_type": "markdown",
   "id": "f1f1d1b5",
   "metadata": {},
   "source": [
    "This code mainly generate the graph, now I will just call the function referencing the input signal."
   ]
  },
  {
   "cell_type": "code",
   "execution_count": 41,
   "id": "ff7b3aa4",
   "metadata": {},
   "outputs": [
    {
     "data": {
      "image/png": "[encoded data removed]",
      "text/plain": [
       "<Figure size 800x400 with 1 Axes>"
      ]
     },
     "metadata": {},
     "output_type": "display_data"
    }
   ],
   "source": [
    "graph_design(input_binary_array_list)"
   ]
  },
  {
   "cell_type": "markdown",
   "id": "8ca192f3",
   "metadata": {},
   "source": [
    "And this complete the graph of input set."
   ]
  },
  {
   "cell_type": "markdown",
   "id": "b0ba200f",
   "metadata": {},
   "source": [
    "# Introduction to NRZ-I Encoding\n",
    "\n",
    "NRZ-I (Non-Return-to-Zero Inverted) encoding is a method used in digital communication systems where a binary '1' causes a transition in the signal level, and a binary '0' means no transition or keep same the previous signal level. This encoding scheme is important because it helps in reducing signal distortion and maintaining synchronization in the communication channel."
   ]
  },
  {
   "cell_type": "markdown",
   "id": "7b963a4f",
   "metadata": {},
   "source": [
    "### NRZ-I Encoding Rule:\n",
    "\n",
    "- A '1' bit causes the signal to flip or toogle from its previous state (if it was 0, it becomes 1, and if it was 1, it becomes 0).\n",
    "- A '0' bit does not change the previous signal level.\n",
    "\n",
    "In this experiment, we will implement NRZ-I encoding and decoding using Python and observe how the signal is modified through the process."
   ]
  },
  {
   "cell_type": "code",
   "execution_count": 42,
   "id": "41319e19",
   "metadata": {},
   "outputs": [],
   "source": [
    "def NRZ_I_encode(string):\n",
    "    encoded_signal=''\n",
    "    previous_state = '1'\n",
    "    for bit in string:\n",
    "        if bit == '1':\n",
    "            if previous_state == '0':\n",
    "                previous_state = '1'\n",
    "            else:\n",
    "                previous_state = '0'\n",
    "        # If the bit is '0', no change in the signal state\n",
    "        encoded_signal+=previous_state\n",
    "    return encoded_signal\n"
   ]
  },
  {
   "cell_type": "markdown",
   "id": "3cdc4deb",
   "metadata": {},
   "source": [
    "There are two types.\n",
    "\n",
    "- Initial Low: which means the previous bit of the initial bit is assumed to be zero(0) or low\n",
    "- initial High: which means the previous bit of the initial bit is assumed to be one(1) or high"
   ]
  },
  {
   "cell_type": "code",
   "execution_count": 43,
   "id": "9a43f1d5",
   "metadata": {},
   "outputs": [
    {
     "name": "stdout",
     "output_type": "stream",
     "text": [
      "NRZ_I_Encoded_Signal: 00101110\n"
     ]
    }
   ],
   "source": [
    "NRZ_I_encoded_signal_string = NRZ_I_encode(input_binary_string)\n",
    "print(f\"NRZ_I_Encoded_Signal: {NRZ_I_encoded_signal_string}\")\n"
   ]
  },
  {
   "cell_type": "code",
   "execution_count": 44,
   "id": "655660e4",
   "metadata": {},
   "outputs": [
    {
     "name": "stdout",
     "output_type": "stream",
     "text": [
      "[0, 0, 1, 0, 1, 1, 1, 0]\n"
     ]
    }
   ],
   "source": [
    "NRZ_I_encoded_signal_array_list = [int(char) for char in NRZ_I_encoded_signal_string]\n",
    "print(NRZ_I_encoded_signal_array_list)"
   ]
  },
  {
   "cell_type": "code",
   "execution_count": 45,
   "id": "d1a78776",
   "metadata": {},
   "outputs": [],
   "source": [
    "def NRZ_I_encoded_graph_design(signal):\n",
    "    time=range(len(signal)+1)\n",
    "    signal=signal+[signal[-1]]\n",
    "    plt.figure(figsize=(8,4))\n",
    "    plt.step(time, signal,where='post',label=\"NRZ-I Signal\",color='purple')\n",
    "    plt.xlabel('Time')\n",
    "    plt.ylabel('Voltage Level')\n",
    "    plt.title(f'NRZ-I Encoding : {input_binary_string}')\n",
    "    # plt.yticks([0, 1])\n",
    "    plt.grid(True)\n",
    "    plt.show()\n"
   ]
  },
  {
   "cell_type": "code",
   "execution_count": 46,
   "id": "0e960e3e",
   "metadata": {},
   "outputs": [
    {
     "data": {
      "image/png": "[encoded data removed]",
      "text/plain": [
       "<Figure size 800x400 with 1 Axes>"
      ]
     },
     "metadata": {},
     "output_type": "display_data"
    }
   ],
   "source": [
    "NRZ_I_encoded_graph_design(NRZ_I_encoded_signal_array_list)"
   ]
  },
  {
   "cell_type": "markdown",
   "id": "36413238",
   "metadata": {},
   "source": [
    "# Introduction to NRZ-I Decoding\n",
    "\n",
    "NRZ-I (Non-Return-to-Zero Inverted) encoding is a method used in digital communication systems where a binary '1' causes a transition in the signal level, and a binary '0' means no transition or keeps the previous signal level unchanged. This encoding scheme is important because it helps in reducing signal distortion and maintaining synchronization in the communication channel."
   ]
  },
  {
   "cell_type": "markdown",
   "id": "dc812881",
   "metadata": {},
   "source": [
    "### NRZ-I Decoding Rule:\n",
    "\n",
    "- If a transition occurs, decode it as ‘1’.\n",
    "- If no transition occurs, decode it as ‘0’.\n",
    "\n",
    "In this experiment, we will implement NRZ-I encoding and decoding using Python and observe how the signal is modified through the process."
   ]
  },
  {
   "cell_type": "code",
   "execution_count": 47,
   "id": "10fcd6c7",
   "metadata": {},
   "outputs": [],
   "source": [
    "def NRZ_I_decode(encoded_signal):\n",
    "    decoded_data = '1'  \n",
    "    # The first bit is assumed to be 1 (since initial level is arbitrary)\n",
    "    # decoded_data = '0'\n",
    "    \n",
    "    for i in range(1, len(encoded_signal)):\n",
    "        if encoded_signal[i] == encoded_signal[i - 1]:\n",
    "            decoded_data += '0'  # No transition means 0\n",
    "        else:\n",
    "            decoded_data += '1'  # Transition means 1\n",
    "\n",
    "    return decoded_data"
   ]
  },
  {
   "cell_type": "code",
   "execution_count": 48,
   "id": "a5ff4828",
   "metadata": {},
   "outputs": [
    {
     "name": "stdout",
     "output_type": "stream",
     "text": [
      "Encoded Signal: 00101110\n",
      "Decoded Signal: 10111001\n"
     ]
    }
   ],
   "source": [
    "# print(\"Encoded Signal: {NRZ_I_encoded_signal_string}\")\n",
    "print(f\"Encoded Signal: {NRZ_I_encoded_signal_string}\")\n",
    "decoded_signal = NRZ_I_decode(NRZ_I_encoded_signal_string)\n",
    "print(\"Decoded Signal: \"+decoded_signal)\n",
    "# print(f\"Decoded Signal: {decoded_signal}\")"
   ]
  },
  {
   "cell_type": "code",
   "execution_count": 49,
   "id": "a04e51c6",
   "metadata": {},
   "outputs": [
    {
     "name": "stdout",
     "output_type": "stream",
     "text": [
      "[1, 0, 1, 1, 1, 0, 0, 1]\n"
     ]
    }
   ],
   "source": [
    "decoded_signal_list = [int(char) for char in decoded_signal]\n",
    "print(decoded_signal_list)"
   ]
  },
  {
   "cell_type": "code",
   "execution_count": 50,
   "id": "1a592fba",
   "metadata": {},
   "outputs": [],
   "source": [
    "def NRZ_I_decoded_graph_design(signal):\n",
    "    time=range(len(signal)+1)\n",
    "    signal=signal+[signal[-1]]\n",
    "    plt.figure(figsize=(10, 5))\n",
    "    plt.step(time, signal, where='post', label=\"NRZ-I Signal\", color='brown')\n",
    "    plt.xlabel(\"Time\")\n",
    "    plt.ylabel(\"Signal Level\")\n",
    "    plt.title(f'NRZ-I Decoding : {input_binary_string}')\n",
    "    plt.grid(True)\n",
    "    plt.show()"
   ]
  },
  {
   "cell_type": "code",
   "execution_count": 51,
   "id": "21cd615e",
   "metadata": {},
   "outputs": [
    {
     "data": {
      "image/png": "[encoded data removed]",
      "text/plain": [
       "<Figure size 1000x500 with 1 Axes>"
      ]
     },
     "metadata": {},
     "output_type": "display_data"
    }
   ],
   "source": [
    "NRZ_I_decoded_graph_design(decoded_signal_list)"
   ]
  }
 ],
 "metadata": {
  "kernelspec": {
   "display_name": "Python 3",
   "language": "python",
   "name": "python3"
  },
  "language_info": {
   "codemirror_mode": {
    "name": "ipython",
    "version": 3
   },
   "file_extension": ".py",
   "mimetype": "text/x-python",
   "name": "python",
   "nbconvert_exporter": "python",
   "pygments_lexer": "ipython3",
   "version": "3.11.9"
  }
 },
 "nbformat": 4,
 "nbformat_minor": 5
}
