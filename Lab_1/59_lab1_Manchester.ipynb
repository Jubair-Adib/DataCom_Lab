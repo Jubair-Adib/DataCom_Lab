{
 "cells": [
  {
   "cell_type": "markdown",
   "id": "2601630e",
   "metadata": {},
   "source": [
    "# Manchester Encoding and Decoding Python Impelementation\n",
    "\n",
    "In this practical, at first we saw the graph of input set, then observe both encoded and decoded graph"
   ]
  },
  {
   "cell_type": "code",
   "execution_count": 19,
   "id": "595407bc",
   "metadata": {},
   "outputs": [],
   "source": [
    "import numpy as np\n",
    "import matplotlib.pyplot as plt"
   ]
  },
  {
   "cell_type": "code",
   "execution_count": 20,
   "id": "ca721f0c",
   "metadata": {},
   "outputs": [],
   "source": [
    "# !pip install numpy"
   ]
  },
  {
   "cell_type": "code",
   "execution_count": 21,
   "id": "cff397a6",
   "metadata": {},
   "outputs": [],
   "source": [
    "# !pip install matplotlib"
   ]
  },
  {
   "cell_type": "markdown",
   "id": "3c39ebdc",
   "metadata": {},
   "source": [
    "- numpy is useful for handling data structures and mathematical functions.\n",
    "\n",
    "- matplotlib.pyplot is used for creating visual plots and graphs to represent data.\n",
    "\n",
    "- for installing numpy and matplotlib, we can just run the commented 2 line code without commenting"
   ]
  },
  {
   "cell_type": "code",
   "execution_count": 22,
   "id": "4e92ba3d",
   "metadata": {},
   "outputs": [],
   "source": [
    "input_binary_string = '10111001'\n",
    "#  input_binary_string = input(\"Enter a binary string (e.g., 10111001): \")"
   ]
  },
  {
   "cell_type": "markdown",
   "id": "1552b714",
   "metadata": {},
   "source": [
    "Here I just took the input."
   ]
  },
  {
   "cell_type": "code",
   "execution_count": 23,
   "id": "fabc7c5e",
   "metadata": {},
   "outputs": [
    {
     "name": "stdout",
     "output_type": "stream",
     "text": [
      "[1, 0, 1, 1, 1, 0, 0, 1]\n"
     ]
    }
   ],
   "source": [
    "input_binary_array_list = [int(char) for char in input_binary_string]\n",
    "print(input_binary_array_list)"
   ]
  },
  {
   "cell_type": "markdown",
   "id": "48c2bd5d",
   "metadata": {},
   "source": [
    "At first, I compress the string to a list of integers and then normally print the output list."
   ]
  },
  {
   "cell_type": "code",
   "execution_count": 24,
   "id": "73a0879e",
   "metadata": {},
   "outputs": [],
   "source": [
    "def graph_design(signal):\n",
    "    time=range(len(signal)+1)\n",
    "    signal=signal+[signal[-1]]\n",
    "    plt.figure(figsize=(8,4))\n",
    "    plt.step(time, signal,where='post',color='red')\n",
    "    plt.xlabel('Time')\n",
    "    plt.ylabel('Voltage Level')\n",
    "    plt.title('Input GRAPH')\n",
    "    # plt.yticks([0, 1])\n",
    "    plt.grid(True)\n",
    "    plt.show()"
   ]
  },
  {
   "cell_type": "markdown",
   "id": "f1f1d1b5",
   "metadata": {},
   "source": [
    "This code mainly generate the graph, now I will just call the function referencing the input signal."
   ]
  },
  {
   "cell_type": "code",
   "execution_count": 25,
   "id": "ff7b3aa4",
   "metadata": {},
   "outputs": [
    {
     "data": {
      "image/png": "[encoded data removed]",
      "text/plain": [
       "<Figure size 800x400 with 1 Axes>"
      ]
     },
     "metadata": {},
     "output_type": "display_data"
    }
   ],
   "source": [
    "graph_design(input_binary_array_list)"
   ]
  },
  {
   "cell_type": "markdown",
   "id": "8ca192f3",
   "metadata": {},
   "source": [
    "And this complete the graph of input set."
   ]
  },
  {
   "cell_type": "markdown",
   "id": "b0ba200f",
   "metadata": {},
   "source": [
    "# Introduction to Manchester Encoding and Decoding Scheme\n",
    "\n",
    "In Manchester, the duration of a bit is divided into two halves. The voltage remains the same at one level during\n",
    "the first half & amp; moves to the other level. Manchester code is a line code in which the encoding of each data bit\n",
    "is either low then high, or high then low, for equal time. Normally when the bit is 1 it starts from high and then\n",
    "goes to low, When the bit is 0 it starts from low and then goes to 1. However, the opposite coding is also\n",
    "Manchester coding."
   ]
  },
  {
   "cell_type": "markdown",
   "id": "9df3134c",
   "metadata": {},
   "source": [
    "### Algorithm for Manchester Encoding:\n",
    "1. Initialize an empty list for the encoded signal.\n",
    "2. Iterate through the input binary sequence: \n",
    "    a) If the bit is ‘0’, append a transition from low to high. \n",
    "    b) If the bit is ‘1’, append a transition from high to low.\n",
    "3. Output the encoded signal."
   ]
  },
  {
   "cell_type": "code",
   "execution_count": 26,
   "id": "41319e19",
   "metadata": {},
   "outputs": [],
   "source": [
    "def Manchester_encode(bits):\n",
    "    encoded = []\n",
    "    for bit in bits:\n",
    "        if bit == '1':\n",
    "            # 1 is represented by Low to High transition (0 → 1)\n",
    "            encoded.append('01')  # '0' → '1'\n",
    "        else:\n",
    "            # 0 is represented by High to Low transition (1 → 0)\n",
    "            encoded.append('10')  # '1' → '0'\n",
    "    return ''.join(encoded)\n"
   ]
  },
  {
   "cell_type": "code",
   "execution_count": 27,
   "id": "9a43f1d5",
   "metadata": {},
   "outputs": [
    {
     "name": "stdout",
     "output_type": "stream",
     "text": [
      "Manchester Encoded Signal: 0110010101101001\n"
     ]
    }
   ],
   "source": [
    "Manchester_encoded_signal_string = Manchester_encode(input_binary_string)\n",
    "print(f\"Manchester Encoded Signal: {Manchester_encoded_signal_string}\")\n"
   ]
  },
  {
   "cell_type": "code",
   "execution_count": 28,
   "id": "81073589",
   "metadata": {},
   "outputs": [
    {
     "name": "stdout",
     "output_type": "stream",
     "text": [
      "[0, 1, 1, 0, 0, 1, 0, 1, 0, 1, 1, 0, 1, 0, 0, 1]\n"
     ]
    }
   ],
   "source": [
    "\n",
    "Manchester_encoded_signal_list = [int(char) for char in Manchester_encoded_signal_string]\n",
    "print(Manchester_encoded_signal_list)"
   ]
  },
  {
   "cell_type": "code",
   "execution_count": 29,
   "id": "d1a78776",
   "metadata": {},
   "outputs": [],
   "source": [
    "def Manchester_encoded_graph_design(signal):\n",
    "    time=range(len(signal)+1)\n",
    "    signal=signal+[signal[-1]]\n",
    "    plt.figure(figsize=(8,4))\n",
    "    plt.step(time, signal,where='post',color='purple')\n",
    "    plt.xlabel('Time')\n",
    "    plt.ylabel('Voltage Level')\n",
    "    plt.title(f\"Manchester Encoded Signal :  {input_binary_string}\")\n",
    "    # plt.yticks([0, 1])\n",
    "    plt.grid(True)\n",
    "    plt.show()   "
   ]
  },
  {
   "cell_type": "code",
   "execution_count": 30,
   "id": "0e960e3e",
   "metadata": {},
   "outputs": [
    {
     "data": {
      "image/png": "[encoded data removed]",
      "text/plain": [
       "<Figure size 800x400 with 1 Axes>"
      ]
     },
     "metadata": {},
     "output_type": "display_data"
    }
   ],
   "source": [
    "Manchester_encoded_graph_design(Manchester_encoded_signal_list)"
   ]
  },
  {
   "cell_type": "markdown",
   "id": "36413238",
   "metadata": {},
   "source": [
    "### Algorithm for Manchester Decoding:\n",
    "1. Initialize an empty list for the decoded binary sequence.\n",
    "2. Iterate through the encoded signal: \n",
    "    a) If the mid-bit transition is from low to high, append ‘1’. \n",
    "    b) If the mid-bit transition is from high to low, append ‘0’.\n",
    "3. Output the decoded sequence."
   ]
  },
  {
   "cell_type": "code",
   "execution_count": 31,
   "id": "10fcd6c7",
   "metadata": {},
   "outputs": [],
   "source": [
    "def Manchester_decode(encoded_signal):\n",
    "    decoded_data =''\n",
    "    for i in range(0,len(encoded_signal),2):\n",
    "        if encoded_signal[i] == '0' and encoded_signal[i+1] == '1':\n",
    "            decoded_data+='1'\n",
    "        elif encoded_signal[i] == '1' and encoded_signal[i+1] == '0':\n",
    "            decoded_data+='0'\n",
    "    return decoded_data"
   ]
  },
  {
   "cell_type": "code",
   "execution_count": 32,
   "id": "a5ff4828",
   "metadata": {},
   "outputs": [
    {
     "data": {
      "text/plain": [
       "'0110010101101001'"
      ]
     },
     "execution_count": 32,
     "metadata": {},
     "output_type": "execute_result"
    }
   ],
   "source": [
    "Manchester_encoded_signal_string"
   ]
  },
  {
   "cell_type": "code",
   "execution_count": 33,
   "id": "a04e51c6",
   "metadata": {},
   "outputs": [
    {
     "name": "stdout",
     "output_type": "stream",
     "text": [
      "Manchester Decoded Signal: 10111001\n"
     ]
    }
   ],
   "source": [
    "Manchester_decoded_signal_string= Manchester_decode(Manchester_encoded_signal_string)\n",
    "print(f\"Manchester Decoded Signal: {Manchester_decoded_signal_string}\")"
   ]
  },
  {
   "cell_type": "code",
   "execution_count": 34,
   "id": "a6580067",
   "metadata": {},
   "outputs": [
    {
     "name": "stdout",
     "output_type": "stream",
     "text": [
      "[1, 0, 1, 1, 1, 0, 0, 1]\n"
     ]
    }
   ],
   "source": [
    "Manchester_decoded_signal_list = [int(char) for char in Manchester_decoded_signal_string]\n",
    "print(Manchester_decoded_signal_list)"
   ]
  },
  {
   "cell_type": "code",
   "execution_count": 35,
   "id": "1a592fba",
   "metadata": {},
   "outputs": [],
   "source": [
    "def Manchester_decoded_graph_design(signal):\n",
    "    time=range(len(signal)+1)\n",
    "    signal=signal+[signal[-1]]\n",
    "    plt.figure(figsize=(8,4))\n",
    "    plt.step(time, signal,where='post',color='purple')\n",
    "    plt.xlabel('Time')\n",
    "    plt.ylabel('Amplitude')\n",
    "    plt.title(f\"Manchester Decoded Signal :  {input_binary_string}\")\n",
    "    # plt.yticks([0, 1])\n",
    "    plt.grid(True)\n",
    "    plt.show()   "
   ]
  },
  {
   "cell_type": "code",
   "execution_count": 36,
   "id": "21cd615e",
   "metadata": {},
   "outputs": [
    {
     "data": {
      "image/png": "[encoded data removed]",
      "text/plain": [
       "<Figure size 800x400 with 1 Axes>"
      ]
     },
     "metadata": {},
     "output_type": "display_data"
    }
   ],
   "source": [
    "Manchester_decoded_graph_design(Manchester_decoded_signal_list)"
   ]
  }
 ],
 "metadata": {
  "kernelspec": {
   "display_name": "Python 3",
   "language": "python",
   "name": "python3"
  },
  "language_info": {
   "codemirror_mode": {
    "name": "ipython",
    "version": 3
   },
   "file_extension": ".py",
   "mimetype": "text/x-python",
   "name": "python",
   "nbconvert_exporter": "python",
   "pygments_lexer": "ipython3",
   "version": "3.11.9"
  }
 },
 "nbformat": 4,
 "nbformat_minor": 5
}
