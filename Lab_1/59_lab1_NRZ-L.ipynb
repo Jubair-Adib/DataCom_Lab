{
 "cells": [
  {
   "cell_type": "markdown",
   "id": "2601630e",
   "metadata": {},
   "source": [
    "\n",
    "# NRZ-L Encoding and Decoding Python Impelementation\n",
    "\n",
    "In this practical, at first we saw the graph of input set, then observe both encoded and decoded graph"
   ]
  },
  {
   "cell_type": "code",
   "execution_count": 33,
   "id": "595407bc",
   "metadata": {},
   "outputs": [],
   "source": [
    "import numpy as np\n",
    "import matplotlib.pyplot as plt"
   ]
  },
  {
   "cell_type": "code",
   "execution_count": 34,
   "id": "d3522bce",
   "metadata": {},
   "outputs": [],
   "source": [
    "# !pip install numpy"
   ]
  },
  {
   "cell_type": "code",
   "execution_count": 35,
   "id": "b0ee954a",
   "metadata": {},
   "outputs": [],
   "source": [
    "# !pip install matplotlib"
   ]
  },
  {
   "cell_type": "markdown",
   "id": "3c39ebdc",
   "metadata": {},
   "source": [
    "- numpy is useful for handling data structures and mathematical functions.\n",
    "\n",
    "- matplotlib.pyplot is used for creating visual plots and graphs to represent data.\n",
    "\n",
    "- for installing numpy and matplotlib, we can just run the commented 2 line code without commenting"
   ]
  },
  {
   "cell_type": "code",
   "execution_count": 36,
   "id": "4e92ba3d",
   "metadata": {},
   "outputs": [],
   "source": [
    "input_binary_string = '10111001'\n",
    "#  input_binary_string = input(\"Enter a binary string (e.g., 10111001): \")"
   ]
  },
  {
   "cell_type": "markdown",
   "id": "1552b714",
   "metadata": {},
   "source": [
    "Here I just took the input."
   ]
  },
  {
   "cell_type": "code",
   "execution_count": 37,
   "id": "fabc7c5e",
   "metadata": {},
   "outputs": [
    {
     "name": "stdout",
     "output_type": "stream",
     "text": [
      "[1, 0, 1, 1, 1, 0, 0, 1]\n"
     ]
    }
   ],
   "source": [
    "input_binary_array_list = [int(char) for char in input_binary_string]\n",
    "print(input_binary_array_list)"
   ]
  },
  {
   "cell_type": "markdown",
   "id": "48c2bd5d",
   "metadata": {},
   "source": [
    "At first, I compress the string to a list of integers and then normally print the output list."
   ]
  },
  {
   "cell_type": "code",
   "execution_count": 38,
   "id": "73a0879e",
   "metadata": {},
   "outputs": [],
   "source": [
    "def graph_design(signal):\n",
    "    time=range(len(signal)+1)\n",
    "    signal=signal+[signal[-1]]\n",
    "    plt.figure(figsize=(8,4))\n",
    "    plt.step(time, signal,where='post',label=\"NRZ-L Signal\",color='red')\n",
    "    plt.xlabel('Time')\n",
    "    plt.ylabel('Voltage Level')\n",
    "    plt.title('Input GRAPH')\n",
    "    # plt.yticks([0, 1])\n",
    "    plt.grid(True)\n",
    "    plt.show()"
   ]
  },
  {
   "cell_type": "markdown",
   "id": "f1f1d1b5",
   "metadata": {},
   "source": [
    "This code mainly generate the graph, now I will just call the function referencing the input signal."
   ]
  },
  {
   "cell_type": "code",
   "execution_count": 39,
   "id": "ff7b3aa4",
   "metadata": {},
   "outputs": [
    {
     "data": {
      "image/png": "[encoded data removed]",
      "text/plain": [
       "<Figure size 800x400 with 1 Axes>"
      ]
     },
     "metadata": {},
     "output_type": "display_data"
    }
   ],
   "source": [
    "graph_design(input_binary_array_list)"
   ]
  },
  {
   "cell_type": "markdown",
   "id": "8ca192f3",
   "metadata": {},
   "source": [
    "And this complete the graph of input set."
   ]
  },
  {
   "cell_type": "markdown",
   "id": "b0ba200f",
   "metadata": {},
   "source": [
    "# Introduction to NRZ-L Encoding & Decoding\n",
    "\n",
    "Non Return To Zero Level (NRZ-L) is a type of NRZ line coding. In NRZ-L usually binary 1 maps to logic level high, and binary 0 maps to logic level low. Although binary 0 maps to logic level high, and binary 1 maps to logic level low is also NRZ-L. We will use the first way which is binary 1 maps to logic level high and binary 0 maps to logic level low.\n",
    "\n",
    "\n"
   ]
  },
  {
   "cell_type": "markdown",
   "id": "a051c730",
   "metadata": {},
   "source": [
    "### Algorithm for NRZ-L Encoding:\n",
    "\n",
    "1. Initialize an empty list for the encoded signal.\n",
    "2. Iterate through the input binary sequence: \n",
    "    - If the bit is ‘0’, append a low voltage level. \n",
    "    - If the bit is ‘1’, append a high voltage level.\n",
    "3. Output the encoded signal."
   ]
  },
  {
   "cell_type": "code",
   "execution_count": 40,
   "id": "41319e19",
   "metadata": {},
   "outputs": [],
   "source": [
    "def NRZ_L_encode(bits):\n",
    "    # NRZ-L encoding: 1 -> +1, 0 -> 0\n",
    "    encoded_signal =[]\n",
    "    for bit in bits:\n",
    "        if bit == '1':\n",
    "            encoded_signal.append(1)\n",
    "        else:\n",
    "            encoded_signal.append(0)\n",
    "    return encoded_signal\n"
   ]
  },
  {
   "cell_type": "code",
   "execution_count": 41,
   "id": "9a43f1d5",
   "metadata": {},
   "outputs": [
    {
     "name": "stdout",
     "output_type": "stream",
     "text": [
      "NRZ_L_Encoded_Signal: [1, 0, 1, 1, 1, 0, 0, 1]\n"
     ]
    }
   ],
   "source": [
    "NRZ_L_encoded_signal_string = NRZ_L_encode(input_binary_string)\n",
    "print(f\"NRZ_L_Encoded_Signal: {NRZ_L_encoded_signal_string}\")\n"
   ]
  },
  {
   "cell_type": "code",
   "execution_count": 42,
   "id": "d1a78776",
   "metadata": {},
   "outputs": [],
   "source": [
    "def NRZ_L_encoded_graph_design(signal):\n",
    "    time=range(len(signal)+1)\n",
    "    signal=signal+[signal[-1]]\n",
    "    plt.figure(figsize=(8,4))\n",
    "    plt.step(time, signal,where='post',label=\"NRZ-L Signal\",color='purple')\n",
    "    plt.xlabel('Time')\n",
    "    plt.ylabel('Voltage Level')\n",
    "    plt.title(f'NRZ-L Encoding :  {input_binary_string}')\n",
    "    # plt.yticks([0, 1])\n",
    "    plt.grid(True)\n",
    "    plt.show()"
   ]
  },
  {
   "cell_type": "code",
   "execution_count": 43,
   "id": "0e960e3e",
   "metadata": {},
   "outputs": [
    {
     "data": {
      "image/png": "[encoded data removed]",
      "text/plain": [
       "<Figure size 800x400 with 1 Axes>"
      ]
     },
     "metadata": {},
     "output_type": "display_data"
    }
   ],
   "source": [
    "NRZ_L_encoded_graph_design(NRZ_L_encoded_signal_string)"
   ]
  },
  {
   "cell_type": "code",
   "execution_count": 44,
   "id": "10fcd6c7",
   "metadata": {},
   "outputs": [],
   "source": [
    "def NRZ_L_decode(encoded_data):\n",
    "    # NRZ-L decoding: +1 -> 1, 0 -> 0\n",
    "    decoded_data = ''\n",
    "    for value in encoded_data:\n",
    "        if value == 1:\n",
    "            decoded_data += '1'\n",
    "        else:\n",
    "            decoded_data += '0'\n",
    "    return decoded_data"
   ]
  },
  {
   "cell_type": "code",
   "execution_count": 45,
   "id": "a5ff4828",
   "metadata": {},
   "outputs": [
    {
     "name": "stdout",
     "output_type": "stream",
     "text": [
      "Decoded Signal: 10111001\n"
     ]
    }
   ],
   "source": [
    "decoded_signal = NRZ_L_decode(NRZ_L_encoded_signal_string)\n",
    "print(f\"Decoded Signal: {decoded_signal}\")"
   ]
  },
  {
   "cell_type": "code",
   "execution_count": 46,
   "id": "a04e51c6",
   "metadata": {},
   "outputs": [
    {
     "name": "stdout",
     "output_type": "stream",
     "text": [
      "[1, 0, 1, 1, 1, 0, 0, 1]\n"
     ]
    }
   ],
   "source": [
    "decoded_signal_list= [int(char) for char in decoded_signal]\n",
    "print(decoded_signal_list)"
   ]
  },
  {
   "cell_type": "markdown",
   "id": "eec609b4",
   "metadata": {},
   "source": [
    "dsdf"
   ]
  },
  {
   "cell_type": "code",
   "execution_count": 47,
   "id": "1a592fba",
   "metadata": {},
   "outputs": [],
   "source": [
    "def NRZ_L_decoded_graph_design(signal):\n",
    "    time=range(len(signal)+1)\n",
    "    signal=signal+[signal[-1]]\n",
    "    plt.figure(figsize=(10, 5))\n",
    "    plt.step(time, signal, where='post', label=\"NRZ-L Signal\", color='brown')\n",
    "    plt.xlabel(\"Time\")\n",
    "    plt.ylabel(\"Signal Level\")\n",
    "    plt.title(f'NRZ-L Decoding Low :  {input_binary_string}')\n",
    "    plt.grid(True)\n",
    "    plt.show()"
   ]
  },
  {
   "cell_type": "code",
   "execution_count": 48,
   "id": "21cd615e",
   "metadata": {},
   "outputs": [
    {
     "data": {
      "image/png": "[encoded data removed]",
      "text/plain": [
       "<Figure size 1000x500 with 1 Axes>"
      ]
     },
     "metadata": {},
     "output_type": "display_data"
    }
   ],
   "source": [
    "NRZ_L_decoded_graph_design(decoded_signal_list)"
   ]
  }
 ],
 "metadata": {
  "kernelspec": {
   "display_name": "Python 3",
   "language": "python",
   "name": "python3"
  },
  "language_info": {
   "codemirror_mode": {
    "name": "ipython",
    "version": 3
   },
   "file_extension": ".py",
   "mimetype": "text/x-python",
   "name": "python",
   "nbconvert_exporter": "python",
   "pygments_lexer": "ipython3",
   "version": "3.11.9"
  }
 },
 "nbformat": 4,
 "nbformat_minor": 5
}
